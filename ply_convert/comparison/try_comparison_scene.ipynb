{
 "cells": [
  {
   "cell_type": "code",
   "execution_count": 8,
   "id": "0c6f3cc2-6edb-425c-bc56-fe65c270d623",
   "metadata": {},
   "outputs": [],
   "source": [
    "import drjit as dr\n",
    "import mitsuba as mi\n",
    "mi.set_variant('cuda_ad_rgb', 'llvm_ad_rgb')\n"
   ]
  },
  {
   "cell_type": "code",
   "execution_count": 118,
   "id": "f40f1dcd-9fbe-4dd3-93e3-adce381b696b",
   "metadata": {},
   "outputs": [],
   "source": [
    "import torch\n",
    "import torch.nn as nn\n",
    "import torch.nn.functional as F\n",
    "import numpy as np\n",
    "\n",
    "from matplotlib import pyplot as plt"
   ]
  },
  {
   "cell_type": "code",
   "execution_count": 119,
   "id": "0fb9c3da",
   "metadata": {},
   "outputs": [],
   "source": [
    "#  s / (a + s)\n",
    "ink_albedo = np.array([\n",
    "    [0.05, 0.7, 0.98],  # Cyan\n",
    "    [0.98, 0.1, 0.9],  # Magenta\n",
    "    [0.997, 0.995, 0.15],  # Yellow\n",
    "    [0.35, 0.35, 0.35],  # KEY: Black\n",
    "    [0.9991, 0.9997, 0.999],   # White\n",
    "    [1.0, 1.0, 1.0] #Transparent\n",
    "    ])\n",
    "# ink_albedo = torch.tensor(ink_albedo, dtype=torch.float32)\n",
    "\n",
    "# a + s\n",
    "ink_sigma_t = np.array([\n",
    "        [9.0, 4.5, 7.5],  # Cyan\n",
    "        [2.5, 3.0, 10.0],  # Magenta\n",
    "        [2.25, 3.75, 19.0],  # Yellow\n",
    "        [5.0, 5.5, 6.5],  # KEY: Black\n",
    "        [6.0, 9.0, 24.0],   # White\n",
    "        [1e-4, 1e-4, 1e-4]] #Transparent\n",
    "        ) /20\n",
    "# ink_sigma_t = torch.tensor(ink_sigma_t, dtype=torch.float32)\n",
    "\n",
    "has_transparent = False\n",
    "weight = np.random.rand(6)\n",
    "if not has_transparent:\n",
    "    weight[5] = 0.0\n",
    "weight = weight / weight.sum()\n",
    "weight = torch.tensor(weight, dtype=torch.float32)"
   ]
  },
  {
   "cell_type": "code",
   "execution_count": 120,
   "id": "0f80178f",
   "metadata": {},
   "outputs": [],
   "source": [
    "ink_scattering = ink_albedo * ink_sigma_t\n",
    "ink_absorption = ink_sigma_t - ink_scattering\n",
    "\n",
    "ink_absorption = torch.tensor(ink_absorption, dtype=torch.float32)\n",
    "ink_scattering = torch.tensor(ink_scattering, dtype=torch.float32)"
   ]
  },
  {
   "cell_type": "markdown",
   "id": "c22a0bbe",
   "metadata": {},
   "source": [
    "## Comparison scene setup ##\n",
    "- center [5. 0. 0.]\n",
    "- scale [290. 240. 240.]"
   ]
  },
  {
   "cell_type": "code",
   "execution_count": 151,
   "id": "b2d362c1",
   "metadata": {},
   "outputs": [
    {
     "name": "stdout",
     "output_type": "stream",
     "text": [
      "[[-1, 0, 0, 0],\n",
      " [0, 1, 0, 0],\n",
      " [0, 0, -1, 5],\n",
      " [0, 0, 0, 1]]\n"
     ]
    }
   ],
   "source": [
    "from mitsuba import ScalarTransform4f as T\n",
    "\n",
    "sensor_to_world = T.look_at(target=[0, 0, 0], origin=[0, 0, 5], up=[0, 1, 0])\n",
    "print(sensor_to_world)\n",
    "# sensor_to_world = mi.TensorXf([1.0,0.0,0.0,0.0,0.0,1.0,0.0,0.0,0.0,0.0,1.0,-1.8,0.0,0.0,0.0,1.0])\n",
    "sensor_thickness_experiment = mi.load_dict({\n",
    "    'type': 'perspective',\n",
    "    'fov': 39,\n",
    "    'to_world': sensor_to_world,\n",
    "    'film': {\n",
    "        'type': 'hdrfilm',\n",
    "        'width': 64, 'height': 64,\n",
    "        'filter': {'type': 'tent'}\n",
    "    }\n",
    "})"
   ]
  },
  {
   "cell_type": "code",
   "execution_count": 154,
   "id": "fdbe0a4d",
   "metadata": {},
   "outputs": [],
   "source": [
    "from mitsuba.scalar_rgb import Transform4f as T\n",
    "\n",
    "def load_scene_diff_cube(bbox_center, bbox_scale):\n",
    "\n",
    "    translate_3 = - bbox_scale[2] + 20\n",
    "    scene = mi.load_dict({\n",
    "        'type': 'scene',\n",
    "        'integrator': {'type': 'volpathmis'},\n",
    "        'red_cude': {\n",
    "            'type': 'obj',\n",
    "            'filename': 'set1/meshes/Cube.obj',\n",
    "            # 'bsdf':{'type': 'diffuse',\n",
    "            # 'reflectance': {\n",
    "            #     'type': 'rgb',\n",
    "            #     'value': [0.2, 0.25, 0.7]\n",
    "            # }}\n",
    "            'bsdf': {'type': 'null'},\n",
    "            'interior': {\n",
    "                'type': 'homogeneous',\n",
    "                'albedo': {\n",
    "                    # 'type': 'rgb',\n",
    "                    # 'value': [1, 0.0, 0.0],\n",
    "                    'type': 'gridvolume',\n",
    "                    'filename': 'set1/meta/albedo.vol',\n",
    "                    'filter_type': 'trilinear',\n",
    "                    'to_world': T.rotate([1, 0, 0], -90).translate(list(bbox_center)).scale(list(bbox_scale)),\n",
    "\n",
    "                },\n",
    "                'sigma_t': {\n",
    "                    # 'type': 'rgb',\n",
    "                    # 'value': [1, 0.0, 0.0],\n",
    "                    # 'type': 'gridvolume',\n",
    "                    'filename': 'set1/meta/sigma_t.vol',\n",
    "                    'filter_type': 'trilinear',\n",
    "                    'to_world': T.rotate([1, 0, 0], -90).translate(list(bbox_center)).scale(list(bbox_scale)),\n",
    "\n",
    "                },\n",
    "                'scale': 20\n",
    "            }\n",
    "        },\n",
    "        'emitter': {'type': 'constant'}\n",
    "    })\n",
    "\n",
    "    return scene\n",
    "\n"
   ]
  },
  {
   "cell_type": "code",
   "execution_count": 155,
   "id": "25715be8",
   "metadata": {},
   "outputs": [
    {
     "data": {
      "text/html": [
       "<img src=\"data:image/png;base64, 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\"width=\"250vm\" />"
      ],
      "text/plain": [
       "Bitmap[\n",
       "  pixel_format = rgb,\n",
       "  component_format = uint8,\n",
       "  size = [64, 64],\n",
       "  srgb_gamma = 1,\n",
       "  struct = Struct<3>[\n",
       "    uint8 R; // @0, normalized, gamma, premultiplied alpha\n",
       "    uint8 G; // @1, normalized, gamma, premultiplied alpha\n",
       "    uint8 B; // @2, normalized, gamma, premultiplied alpha\n",
       "  ],\n",
       "  data = [ 12 KiB of image data ]\n",
       "]"
      ]
     },
     "execution_count": 155,
     "metadata": {},
     "output_type": "execute_result"
    }
   ],
   "source": [
    "# w = torch.tensor([0.0000, 0.5107, 0.4893, 0.0000, 0.0000, 0.0000])\n",
    "# sigma_t = (w @ (ink_absorption+ ink_scattering))\n",
    "# albedo = (w @ ink_scattering / sigma_t)\n",
    "# sigma_t = sigma_t.detach().numpy()\n",
    "# albedo = albedo.detach().numpy()\n",
    "\n",
    "bbox_center = np.array([0.0, 0.0, 0.0])\n",
    "bbox_scale = np.array([290.0, 240.0, 240.0])\n",
    "\n",
    "\n",
    "scene = load_scene_diff_cube(bbox_center, bbox_scale)\n",
    "# key_albedo = 'red_cude.interior_medium.albedo.value.value'\n",
    "# key_sigma_t = 'red_cude.interior_medium.sigma_t.value.value'\n",
    "# params = mi.traverse(scene)\n",
    "# params[key_albedo] = albedo\n",
    "# params[key_sigma_t] = sigma_t\n",
    "# params.update()\n",
    "img = mi.render(scene,sensor=sensor_thickness_experiment, spp=4)\n",
    "mi.util.convert_to_bitmap(img)\n"
   ]
  },
  {
   "cell_type": "code",
   "execution_count": null,
   "id": "2dafa49c",
   "metadata": {},
   "outputs": [],
   "source": []
  },
  {
   "cell_type": "code",
   "execution_count": null,
   "id": "b8d59596",
   "metadata": {},
   "outputs": [],
   "source": []
  }
 ],
 "metadata": {
  "kernelspec": {
   "display_name": "Python 3 (ipykernel)",
   "language": "python",
   "name": "python3"
  },
  "language_info": {
   "codemirror_mode": {
    "name": "ipython",
    "version": 3
   },
   "file_extension": ".py",
   "mimetype": "text/x-python",
   "name": "python",
   "nbconvert_exporter": "python",
   "pygments_lexer": "ipython3",
   "version": "3.9.18"
  },
  "vscode": {
   "interpreter": {
    "hash": "31f2aee4e71d21fbe5cf8b01ff0e069b9275f58929596ceb00d14d90e3e16cd6"
   }
  }
 },
 "nbformat": 4,
 "nbformat_minor": 5
}
